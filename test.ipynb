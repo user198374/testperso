{
 "cells": [
  {
   "cell_type": "markdown",
   "metadata": {},
   "source": [
    "# Return"
   ]
  },
  {
   "cell_type": "markdown",
   "metadata": {},
   "source": [
    "stockage de 2 élèments dans une variable de type tuple"
   ]
  },
  {
   "cell_type": "code",
   "execution_count": 2,
   "metadata": {},
   "outputs": [
    {
     "data": {
      "text/plain": [
       "tuple"
      ]
     },
     "execution_count": 2,
     "metadata": {},
     "output_type": "execute_result"
    }
   ],
   "source": [
    "def ordre(a, b):\n",
    "    if a <= b:\n",
    "        return a, b\n",
    "    else:\n",
    "        return b, a\n",
    "ordonne = ordre(60,2)\n",
    "ordonne "
   ]
  },
  {
   "cell_type": "markdown",
   "metadata": {},
   "source": [
    "# Fonctions récursives"
   ]
  },
  {
   "cell_type": "markdown",
   "metadata": {},
   "source": [
    "factorielle(4) = 4 par 3 par 2 par 1\n",
    "\n",
    "si n est inférieur ou égale a 1 retourne la valeur 1 stockable dans une variable sinon n strictement supérieur a 1, retourne  n * la fonction factorielle - 1 ( pour que le programme soit false a un moment donné)"
   ]
  },
  {
   "cell_type": "code",
   "execution_count": 11,
   "metadata": {},
   "outputs": [
    {
     "data": {
      "text/plain": [
       "24"
      ]
     },
     "execution_count": 11,
     "metadata": {},
     "output_type": "execute_result"
    }
   ],
   "source": [
    "def factorielle(n):\n",
    "    if n <= 1:\n",
    "        return 1\n",
    "    else:\n",
    "        return n*factorielle(n-1)\n",
    "factorielle(4)\n",
    "\n",
    "factorielle(0)\n"
   ]
  },
  {
   "cell_type": "markdown",
   "metadata": {},
   "source": [
    "# Héritage"
   ]
  },
  {
   "cell_type": "markdown",
   "metadata": {},
   "source": [
    "Il est important de comprendre le concept d'héritage en programmation orienté objet afin d'éviter la redondance\n",
    "dans le code. super() se pose dans la classe enfant après avoir mis la classe parent entre parenthèse sur la classe enfant.\n",
    "Les variables importés de la classe parent ne prennent pas de self au print de la classe enfant"
   ]
  },
  {
   "cell_type": "code",
   "execution_count": 21,
   "metadata": {},
   "outputs": [
    {
     "name": "stdout",
     "output_type": "stream",
     "text": [
      "l'entreprise possède 4 étages a la grande rue et est une PME\n"
     ]
    }
   ],
   "source": [
    "class batiment:\n",
    "    def __init__(self, nbre_etage, adresse):\n",
    "        nbre_etage = nbre_etage\n",
    "        adresse = adresse\n",
    "\n",
    "class entreprise(batiment):\n",
    "    def __init__(self, nbre_etage, adresse, taille_entreprise):\n",
    "        super().__init__(nbre_etage, adresse)\n",
    "        taille_entreprise = taille_entreprise\n",
    "        print(f\"l'entreprise possède {nbre_etage} étages a la {adresse} et est une {taille_entreprise}\")\n",
    "        \n",
    "entreprise1 = entreprise(4, \"grande rue\", \"PME\")\n",
    "\n"
   ]
  },
  {
   "cell_type": "markdown",
   "metadata": {},
   "source": [
    "# Polymorphisme"
   ]
  },
  {
   "cell_type": "markdown",
   "metadata": {},
   "source": [
    "Signifie plusieurs forme. Ce concept fait référence a la capacité d'une variable d'une fonction ou d'un objet a prendre plusieurs formes, c'est à dire, à sa capacité de prendre des définitions différentes. "
   ]
  },
  {
   "cell_type": "code",
   "execution_count": 24,
   "metadata": {},
   "outputs": [
    {
     "name": "stdout",
     "output_type": "stream",
     "text": [
      "Meow\n",
      "Wouf Wouf\n"
     ]
    }
   ],
   "source": [
    "class Animaux():\n",
    "    def animal_sound(self):\n",
    "        raise NotImplementedError(\"La classe n'a pas défini le nom de l'animal\")\n",
    "    \n",
    "class Chat(Animaux):\n",
    "    def animal_sound(self):\n",
    "        return (\"Meow\")\n",
    "    \n",
    "class Chien(Animaux):\n",
    "    def animal_sound(self):\n",
    "        return (\"Wouf Wouf\")\n",
    "        \n",
    "cat = Chat()\n",
    "print(cat.animal_sound())\n",
    "\n",
    "dog = Chien()\n",
    "print(dog.animal_sound())"
   ]
  }
 ],
 "metadata": {
  "kernelspec": {
   "display_name": "Python 3.10.6 64-bit (windows store)",
   "language": "python",
   "name": "python3"
  },
  "language_info": {
   "codemirror_mode": {
    "name": "ipython",
    "version": 3
   },
   "file_extension": ".py",
   "mimetype": "text/x-python",
   "name": "python",
   "nbconvert_exporter": "python",
   "pygments_lexer": "ipython3",
   "version": "3.10.6"
  },
  "orig_nbformat": 4,
  "vscode": {
   "interpreter": {
    "hash": "7b1f2b33e866b0bf2409397e5f58ba9cdf170d3b7f64c8f359c79998e2f88ad4"
   }
  }
 },
 "nbformat": 4,
 "nbformat_minor": 2
}
